{
  "nbformat": 4,
  "nbformat_minor": 0,
  "metadata": {
    "colab": {
      "name": "MLP_Basic_Improved.ipynb",
      "provenance": [],
      "authorship_tag": "ABX9TyOyc2QBVBKhI6fJJGmFbfdt",
      "include_colab_link": true
    },
    "kernelspec": {
      "name": "python3",
      "display_name": "Python 3"
    }
  },
  "cells": [
    {
      "cell_type": "markdown",
      "metadata": {
        "id": "view-in-github",
        "colab_type": "text"
      },
      "source": [
        "<a href=\"https://colab.research.google.com/github/JayJihyunKim/workbooks/blob/main/MLP_Basic_Improved.ipynb\" target=\"_parent\"><img src=\"https://colab.research.google.com/assets/colab-badge.svg\" alt=\"Open In Colab\"/></a>"
      ]
    },
    {
      "cell_type": "code",
      "metadata": {
        "id": "LIon4TGIra1_"
      },
      "source": [
        "#Multi-layer Perceptron\n",
        "%matplotlib inline\n",
        "import matplotlib.pyplot as plt\n",
        "from sklearn.datasets import load_digits\n",
        "digits = load_digits()\n",
        "\n",
        "import torch\n",
        "import torch.nn as nn\n",
        "from torch import optim\n",
        "\n",
        "X = digits.data\n",
        "Y = digits.target"
      ],
      "execution_count": 1,
      "outputs": []
    },
    {
      "cell_type": "code",
      "metadata": {
        "colab": {
          "base_uri": "https://localhost:8080/"
        },
        "id": "7fJ2xfZTBo5u",
        "outputId": "68d39309-62cc-41a5-8fd2-11373643a69e"
      },
      "source": [
        "model = nn.Sequential(\n",
        "    nn.Linear(64,32),\n",
        "    nn.ReLU(),\n",
        "    nn.Linear(32,16),\n",
        "    nn.ReLU(),\n",
        "    nn.Linear(16,10),\n",
        ")\n",
        "\n",
        "X = torch.tensor(X, dtype=torch.float32)\n",
        "Y = torch.tensor(Y, dtype=torch.int64)\n",
        "loss_fn = nn.CrossEntropyLoss()\n",
        "optimizer = optim.Adam(model.parameters())\n",
        "losses = []\n",
        "\n",
        "for epoch in range(100):\n",
        "  optimizer.zero_grad()\n",
        "  y_pred = model(X)\n",
        "  loss = loss_fn(y_pred, Y)\n",
        "  loss.backward()\n",
        "  optimizer.step()\n",
        "\n",
        "  print('Epoch {:4d}/{} Cost: {:.6f}'.format(epoch, 100, loss.item()))\n",
        "\n",
        "  losses.append(loss.item())\n",
        "\n"
      ],
      "execution_count": 3,
      "outputs": [
        {
          "output_type": "stream",
          "text": [
            "Epoch    0/100 Cost: 2.571029\n",
            "Epoch    1/100 Cost: 2.489310\n",
            "Epoch    2/100 Cost: 2.420936\n",
            "Epoch    3/100 Cost: 2.362861\n",
            "Epoch    4/100 Cost: 2.313284\n",
            "Epoch    5/100 Cost: 2.269890\n",
            "Epoch    6/100 Cost: 2.231122\n",
            "Epoch    7/100 Cost: 2.196110\n",
            "Epoch    8/100 Cost: 2.163525\n",
            "Epoch    9/100 Cost: 2.132035\n",
            "Epoch   10/100 Cost: 2.101027\n",
            "Epoch   11/100 Cost: 2.069925\n",
            "Epoch   12/100 Cost: 2.038405\n",
            "Epoch   13/100 Cost: 2.006643\n",
            "Epoch   14/100 Cost: 1.974649\n",
            "Epoch   15/100 Cost: 1.942647\n",
            "Epoch   16/100 Cost: 1.910621\n",
            "Epoch   17/100 Cost: 1.878643\n",
            "Epoch   18/100 Cost: 1.846989\n",
            "Epoch   19/100 Cost: 1.816091\n",
            "Epoch   20/100 Cost: 1.785633\n",
            "Epoch   21/100 Cost: 1.755388\n",
            "Epoch   22/100 Cost: 1.725386\n",
            "Epoch   23/100 Cost: 1.695063\n",
            "Epoch   24/100 Cost: 1.664199\n",
            "Epoch   25/100 Cost: 1.632564\n",
            "Epoch   26/100 Cost: 1.600139\n",
            "Epoch   27/100 Cost: 1.567086\n",
            "Epoch   28/100 Cost: 1.533620\n",
            "Epoch   29/100 Cost: 1.499681\n",
            "Epoch   30/100 Cost: 1.465167\n",
            "Epoch   31/100 Cost: 1.430232\n",
            "Epoch   32/100 Cost: 1.395218\n",
            "Epoch   33/100 Cost: 1.360468\n",
            "Epoch   34/100 Cost: 1.326189\n",
            "Epoch   35/100 Cost: 1.292238\n",
            "Epoch   36/100 Cost: 1.258683\n",
            "Epoch   37/100 Cost: 1.225224\n",
            "Epoch   38/100 Cost: 1.192171\n",
            "Epoch   39/100 Cost: 1.159553\n",
            "Epoch   40/100 Cost: 1.127192\n",
            "Epoch   41/100 Cost: 1.095056\n",
            "Epoch   42/100 Cost: 1.063223\n",
            "Epoch   43/100 Cost: 1.031701\n",
            "Epoch   44/100 Cost: 1.000664\n",
            "Epoch   45/100 Cost: 0.970242\n",
            "Epoch   46/100 Cost: 0.940501\n",
            "Epoch   47/100 Cost: 0.911445\n",
            "Epoch   48/100 Cost: 0.883086\n",
            "Epoch   49/100 Cost: 0.855479\n",
            "Epoch   50/100 Cost: 0.828564\n",
            "Epoch   51/100 Cost: 0.802479\n",
            "Epoch   52/100 Cost: 0.777147\n",
            "Epoch   53/100 Cost: 0.752497\n",
            "Epoch   54/100 Cost: 0.728487\n",
            "Epoch   55/100 Cost: 0.705208\n",
            "Epoch   56/100 Cost: 0.682729\n",
            "Epoch   57/100 Cost: 0.661085\n",
            "Epoch   58/100 Cost: 0.640282\n",
            "Epoch   59/100 Cost: 0.620446\n",
            "Epoch   60/100 Cost: 0.601451\n",
            "Epoch   61/100 Cost: 0.583302\n",
            "Epoch   62/100 Cost: 0.566000\n",
            "Epoch   63/100 Cost: 0.549477\n",
            "Epoch   64/100 Cost: 0.533649\n",
            "Epoch   65/100 Cost: 0.518454\n",
            "Epoch   66/100 Cost: 0.503870\n",
            "Epoch   67/100 Cost: 0.489848\n",
            "Epoch   68/100 Cost: 0.476378\n",
            "Epoch   69/100 Cost: 0.463426\n",
            "Epoch   70/100 Cost: 0.451022\n",
            "Epoch   71/100 Cost: 0.439115\n",
            "Epoch   72/100 Cost: 0.427680\n",
            "Epoch   73/100 Cost: 0.416698\n",
            "Epoch   74/100 Cost: 0.406165\n",
            "Epoch   75/100 Cost: 0.396051\n",
            "Epoch   76/100 Cost: 0.386313\n",
            "Epoch   77/100 Cost: 0.376885\n",
            "Epoch   78/100 Cost: 0.367793\n",
            "Epoch   79/100 Cost: 0.359024\n",
            "Epoch   80/100 Cost: 0.350507\n",
            "Epoch   81/100 Cost: 0.342180\n",
            "Epoch   82/100 Cost: 0.334113\n",
            "Epoch   83/100 Cost: 0.326318\n",
            "Epoch   84/100 Cost: 0.318856\n",
            "Epoch   85/100 Cost: 0.311742\n",
            "Epoch   86/100 Cost: 0.304929\n",
            "Epoch   87/100 Cost: 0.298255\n",
            "Epoch   88/100 Cost: 0.291773\n",
            "Epoch   89/100 Cost: 0.285473\n",
            "Epoch   90/100 Cost: 0.279380\n",
            "Epoch   91/100 Cost: 0.273446\n",
            "Epoch   92/100 Cost: 0.267698\n",
            "Epoch   93/100 Cost: 0.262124\n",
            "Epoch   94/100 Cost: 0.256713\n",
            "Epoch   95/100 Cost: 0.251477\n",
            "Epoch   96/100 Cost: 0.246403\n",
            "Epoch   97/100 Cost: 0.241480\n",
            "Epoch   98/100 Cost: 0.236702\n",
            "Epoch   99/100 Cost: 0.232063\n"
          ],
          "name": "stdout"
        }
      ]
    },
    {
      "cell_type": "code",
      "metadata": {
        "colab": {
          "base_uri": "https://localhost:8080/",
          "height": 282
        },
        "id": "OiuT7-meC_6e",
        "outputId": "d4a2b23c-5c47-40e9-abdc-97da450b72c1"
      },
      "source": [
        "plt.plot(losses)"
      ],
      "execution_count": 4,
      "outputs": [
        {
          "output_type": "execute_result",
          "data": {
            "text/plain": [
              "[<matplotlib.lines.Line2D at 0x7f243e0a6978>]"
            ]
          },
          "metadata": {
            "tags": []
          },
          "execution_count": 4
        },
        {
          "output_type": "display_data",
          "data": {
            "image/png": "[encoded data removed]",
            "text/plain": [
              "<Figure size 432x288 with 1 Axes>"
            ]
          },
          "metadata": {
            "tags": [],
            "needs_background": "light"
          }
        }
      ]
    },
    {
      "cell_type": "code",
      "metadata": {
        "colab": {
          "base_uri": "https://localhost:8080/"
        },
        "id": "kqk1ooc0EfJF",
        "outputId": "83e6e4a5-9128-49c6-a86d-7cb47b061c47"
      },
      "source": [
        "#MLP 코딩개선\n",
        "\n",
        "!pip install pytorch-ignite"
      ],
      "execution_count": 6,
      "outputs": [
        {
          "output_type": "stream",
          "text": [
            "Collecting pytorch-ignite\n",
            "\u001b[?25l  Downloading https://files.pythonhosted.org/packages/14/98/0a5b83d82ff245d3de5f09808fb80ff0ed03f6b10933979e6018b1dd0eaa/pytorch_ignite-0.4.2-py2.py3-none-any.whl (175kB)\n",
            "\r\u001b[K     |█▉                              | 10kB 18.2MB/s eta 0:00:01\r\u001b[K     |███▊                            | 20kB 23.4MB/s eta 0:00:01\r\u001b[K     |█████▋                          | 30kB 11.5MB/s eta 0:00:01\r\u001b[K     |███████▌                        | 40kB 9.2MB/s eta 0:00:01\r\u001b[K     |█████████▍                      | 51kB 4.6MB/s eta 0:00:01\r\u001b[K     |███████████▏                    | 61kB 5.2MB/s eta 0:00:01\r\u001b[K     |█████████████                   | 71kB 5.2MB/s eta 0:00:01\r\u001b[K     |███████████████                 | 81kB 5.7MB/s eta 0:00:01\r\u001b[K     |████████████████▉               | 92kB 5.4MB/s eta 0:00:01\r\u001b[K     |██████████████████▊             | 102kB 4.5MB/s eta 0:00:01\r\u001b[K     |████████████████████▌           | 112kB 4.5MB/s eta 0:00:01\r\u001b[K     |██████████████████████▍         | 122kB 4.5MB/s eta 0:00:01\r\u001b[K     |████████████████████████▎       | 133kB 4.5MB/s eta 0:00:01\r\u001b[K     |██████████████████████████▏     | 143kB 4.5MB/s eta 0:00:01\r\u001b[K     |████████████████████████████    | 153kB 4.5MB/s eta 0:00:01\r\u001b[K     |█████████████████████████████▉  | 163kB 4.5MB/s eta 0:00:01\r\u001b[K     |███████████████████████████████▊| 174kB 4.5MB/s eta 0:00:01\r\u001b[K     |████████████████████████████████| 184kB 4.5MB/s \n",
            "\u001b[?25hRequirement already satisfied: torch<2,>=1.3 in /usr/local/lib/python3.6/dist-packages (from pytorch-ignite) (1.7.0+cu101)\n",
            "Requirement already satisfied: typing-extensions in /usr/local/lib/python3.6/dist-packages (from torch<2,>=1.3->pytorch-ignite) (3.7.4.3)\n",
            "Requirement already satisfied: numpy in /usr/local/lib/python3.6/dist-packages (from torch<2,>=1.3->pytorch-ignite) (1.19.5)\n",
            "Requirement already satisfied: dataclasses in /usr/local/lib/python3.6/dist-packages (from torch<2,>=1.3->pytorch-ignite) (0.8)\n",
            "Requirement already satisfied: future in /usr/local/lib/python3.6/dist-packages (from torch<2,>=1.3->pytorch-ignite) (0.16.0)\n",
            "Installing collected packages: pytorch-ignite\n",
            "Successfully installed pytorch-ignite-0.4.2\n"
          ],
          "name": "stdout"
        }
      ]
    },
    {
      "cell_type": "code",
      "metadata": {
        "id": "hLRxw219GL8l"
      },
      "source": [
        "%matplotlib inline\n",
        "import matplotlib.pyplot as plt\n",
        "import seaborn as sns\n",
        "\n",
        "#손글씨 데이터 로드\n",
        "from sklearn.datasets import load_digits\n",
        "digits= load_digits()\n",
        "\n",
        "#torch 관련\n",
        "import torch\n",
        "from torch import nn, optim\n",
        "import torch.nn.functional as F\n",
        "from torch.utils.data import DataLoader, TensorDataset\n",
        "from torchvision import transforms\n",
        "\n",
        "#ignite 관련\n",
        "from ignite.engine import Events, create_supervised_evaluator, create_supervised_trainer\n",
        "from ignite.metrics import Accuracy, Loss, RunningAverage, ConfusionMatrix\n",
        "# from ignite.handlers import ModelCheckpoint, EarlyStopping\n",
        "\n"
      ],
      "execution_count": 46,
      "outputs": []
    },
    {
      "cell_type": "code",
      "metadata": {
        "id": "CfafgCzXSV7B"
      },
      "source": [
        "X = digits.data\n",
        "Y = digits.target\n",
        "X = torch.tensor(X, dtype=torch.float32)\n",
        "Y = torch.tensor(Y, dtype=torch.int64)\n",
        "\n",
        "ds = TensorDataset(X,Y)\n",
        "\n",
        "train_loader = DataLoader(ds, batch_size=64, shuffle=True)\n",
        "val_loader = DataLoader(ds, batch_size=64, shuffle=True)\n"
      ],
      "execution_count": 47,
      "outputs": []
    },
    {
      "cell_type": "code",
      "metadata": {
        "id": "XiTT46mQTVmw"
      },
      "source": [
        "class MLP(nn.Module):\n",
        "  def __init__(self):\n",
        "    super(MLP, self).__init__()\n",
        "\n",
        "    self.fc = nn.Sequential(\n",
        "        nn.Linear(64,32),\n",
        "        nn.ReLU(),\n",
        "        nn.Linear(32,16),\n",
        "        nn.ReLU(),\n",
        "        nn.Linear(16,10)\n",
        "    )\n",
        "\n",
        "  def forward(self,x):\n",
        "    x = self.fc(x)\n",
        "\n",
        "    return F.log_softmax(x,dim=1)"
      ],
      "execution_count": 48,
      "outputs": []
    },
    {
      "cell_type": "code",
      "metadata": {
        "id": "Y3Dn6Zg9Uco9"
      },
      "source": [
        "model = MLP()\n",
        "device = torch.device(\"cuda:0\" if torch.cuda.is_available() else \"cpu\")\n",
        "model.to(device)\n",
        "loss_fn = nn.NLLLoss()\n",
        "optimizer = optim.Adam(model.parameters(), lr=0.001)\n",
        "\n",
        "epochs = 100\n",
        "trainer = create_supervised_trainer(model, optimizer, loss_fn, device=device)\n",
        "metrics = {\n",
        "    'accuracy': Accuracy(),\n",
        "    'nll' : Loss(loss_fn),\n",
        "    'cm' : ConfusionMatrix(num_classes=10)                                                                                                                    \n",
        "}\n",
        "\n",
        "train_evaluator = create_supervised_evaluator(model, metrics=metrics, device=device)\n",
        "val_evaluator = create_supervised_evaluator(model, metrics=metrics, device=device)\n",
        "training_history = {'accuracy':[], 'loss':[]}\n",
        "validation_history={'accuracy':[], 'loss':[]}\n",
        "last_epoch=[]\n"
      ],
      "execution_count": 49,
      "outputs": []
    },
    {
      "cell_type": "code",
      "metadata": {
        "colab": {
          "base_uri": "https://localhost:8080/"
        },
        "id": "-MehgxGfgpl4",
        "outputId": "23ce7733-b756-4316-91f6-a5339595750a"
      },
      "source": [
        "@trainer.on(Events.EPOCH_COMPLETED)\n",
        "def log_training_results(trainer):\n",
        "  train_evaluator.run(train_loader)\n",
        "  metrics = train_evaluator.state.metrics\n",
        "  accuracy = metrics['accuracy']*100\n",
        "  loss = metrics['nll']\n",
        "  last_epoch.append(0)\n",
        "  training_history['accuracy'].append(accuracy)\n",
        "  training_history['loss'].append(loss)\n",
        "  print(\"Training Results - Epoch: {} Avg accuracy: {:.4f} Avg loss: {:.4f}\".format(trainer.state.epoch, accuracy, loss))\n",
        "\n",
        "def log_validation_results(trainer):\n",
        "  val_evaluator.run(val_loader)\n",
        "  metrics = val_evaluator.state.metrics\n",
        "  accuracy = metrics['accuracy']*100\n",
        "  loss = metrics['nll']\n",
        "  validation_history['accuracy'].append(accuracy)\n",
        "  validation_history['loss'].append(loss)\n",
        "  print(\"Validation Results - Epoch: {} Avg accuracy: {:.4f} Avg loss: {:.4f}\".format(trainer.state.epoch, accuracy, loss))\n",
        "\n",
        "trainer.add_event_handler(Events.EPOCH_COMPLETED, log_validation_results)"
      ],
      "execution_count": 50,
      "outputs": [
        {
          "output_type": "execute_result",
          "data": {
            "text/plain": [
              "<ignite.engine.events.RemovableEventHandle at 0x7f24344d6780>"
            ]
          },
          "metadata": {
            "tags": []
          },
          "execution_count": 50
        }
      ]
    },
    {
      "cell_type": "code",
      "metadata": {
        "id": "KoKyuH7bjiJk"
      },
      "source": [
        "@trainer.on(Events.COMPLETED)\n",
        "def log_confusion_matrix(trainer):\n",
        "  val_evaluator.run(val_loader)\n",
        "  metrics = val_evaluator.state.metrics\n",
        "  cm = metrics['cm']\n",
        "  cm = cm.numpy()\n",
        "  cm = cm.astype(int)\n",
        "  classes = ['0','1','2','3','4','5','6','7','8','9']\n",
        "  fig, ax = plt.subplots(figsize=(10,10))\n",
        "  ax = plt.subplot()\n",
        "  sns.heatmap(cm, annot=True, ax = ax, fmt=\"d\")\n",
        "  ax.set_xlabel('Predicted labels')\n",
        "  ax.set_ylabel('True labels') \n",
        "  ax.set_title('Confusion Matrix') \n",
        "  ax.xaxis.set_ticklabels(classes,rotation=90)\n",
        "  ax.yaxis.set_ticklabels(classes,rotation=0)"
      ],
      "execution_count": 51,
      "outputs": []
    },
    {
      "cell_type": "code",
      "metadata": {
        "colab": {
          "base_uri": "https://localhost:8080/",
          "height": 1000
        },
        "id": "FC_li8mdkrht",
        "outputId": "523ba2eb-9e89-439c-baa9-3f8a39452d39"
      },
      "source": [
        "trainer.run(train_loader, max_epochs=epochs)\n",
        "\n",
        "plt.plot(training_history['accuracy'],label=\"Training Accuracy\")\n",
        "plt.plot(validation_history['accuracy'],label=\"Validation Accuracy\")\n",
        "plt.xlabel('No. of Epochs')\n",
        "plt.ylabel('Accuracy')\n",
        "plt.legend(frameon=False)\n",
        "plt.show()\n",
        "\n",
        "plt.plot(training_history['loss'],label=\"Training Loss\")\n",
        "plt.plot(validation_history['loss'],label=\"Validation Loss\")\n",
        "plt.xlabel('No. of Epochs')\n",
        "plt.ylabel('Loss')\n",
        "plt.legend(frameon=False)\n",
        "plt.show()"
      ],
      "execution_count": 52,
      "outputs": [
        {
          "output_type": "stream",
          "text": [
            "Training Results - Epoch: 1 Avg accuracy: 50.3061 Avg loss: 1.7728\n",
            "Validation Results - Epoch: 1 Avg accuracy: 50.3061 Avg loss: 1.7728\n",
            "Training Results - Epoch: 2 Avg accuracy: 71.2298 Avg loss: 1.1214\n",
            "Validation Results - Epoch: 2 Avg accuracy: 71.2298 Avg loss: 1.1214\n",
            "Training Results - Epoch: 3 Avg accuracy: 85.7540 Avg loss: 0.6754\n",
            "Validation Results - Epoch: 3 Avg accuracy: 85.7540 Avg loss: 0.6754\n",
            "Training Results - Epoch: 4 Avg accuracy: 90.3172 Avg loss: 0.4191\n",
            "Validation Results - Epoch: 4 Avg accuracy: 90.3172 Avg loss: 0.4191\n",
            "Training Results - Epoch: 5 Avg accuracy: 91.4858 Avg loss: 0.3126\n",
            "Validation Results - Epoch: 5 Avg accuracy: 91.4858 Avg loss: 0.3126\n",
            "Training Results - Epoch: 6 Avg accuracy: 93.7674 Avg loss: 0.2397\n",
            "Validation Results - Epoch: 6 Avg accuracy: 93.7674 Avg loss: 0.2397\n",
            "Training Results - Epoch: 7 Avg accuracy: 94.8804 Avg loss: 0.1993\n",
            "Validation Results - Epoch: 7 Avg accuracy: 94.8804 Avg loss: 0.1993\n",
            "Training Results - Epoch: 8 Avg accuracy: 95.9377 Avg loss: 0.1750\n",
            "Validation Results - Epoch: 8 Avg accuracy: 95.9377 Avg loss: 0.1750\n",
            "Training Results - Epoch: 9 Avg accuracy: 96.4942 Avg loss: 0.1500\n",
            "Validation Results - Epoch: 9 Avg accuracy: 96.4942 Avg loss: 0.1500\n",
            "Training Results - Epoch: 10 Avg accuracy: 96.4942 Avg loss: 0.1345\n",
            "Validation Results - Epoch: 10 Avg accuracy: 96.4942 Avg loss: 0.1345\n",
            "Training Results - Epoch: 11 Avg accuracy: 96.9393 Avg loss: 0.1182\n",
            "Validation Results - Epoch: 11 Avg accuracy: 96.9393 Avg loss: 0.1182\n",
            "Training Results - Epoch: 12 Avg accuracy: 97.3845 Avg loss: 0.1063\n",
            "Validation Results - Epoch: 12 Avg accuracy: 97.3845 Avg loss: 0.1063\n",
            "Training Results - Epoch: 13 Avg accuracy: 97.8297 Avg loss: 0.0977\n",
            "Validation Results - Epoch: 13 Avg accuracy: 97.8297 Avg loss: 0.0977\n",
            "Training Results - Epoch: 14 Avg accuracy: 97.9967 Avg loss: 0.0904\n",
            "Validation Results - Epoch: 14 Avg accuracy: 97.9967 Avg loss: 0.0904\n",
            "Training Results - Epoch: 15 Avg accuracy: 98.0523 Avg loss: 0.0862\n",
            "Validation Results - Epoch: 15 Avg accuracy: 98.0523 Avg loss: 0.0862\n",
            "Training Results - Epoch: 16 Avg accuracy: 98.3306 Avg loss: 0.0772\n",
            "Validation Results - Epoch: 16 Avg accuracy: 98.3306 Avg loss: 0.0772\n",
            "Training Results - Epoch: 17 Avg accuracy: 98.5531 Avg loss: 0.0702\n",
            "Validation Results - Epoch: 17 Avg accuracy: 98.5531 Avg loss: 0.0702\n",
            "Training Results - Epoch: 18 Avg accuracy: 98.5531 Avg loss: 0.0675\n",
            "Validation Results - Epoch: 18 Avg accuracy: 98.5531 Avg loss: 0.0675\n",
            "Training Results - Epoch: 19 Avg accuracy: 98.7757 Avg loss: 0.0644\n",
            "Validation Results - Epoch: 19 Avg accuracy: 98.7757 Avg loss: 0.0644\n",
            "Training Results - Epoch: 20 Avg accuracy: 98.4975 Avg loss: 0.0643\n",
            "Validation Results - Epoch: 20 Avg accuracy: 98.4975 Avg loss: 0.0643\n",
            "Training Results - Epoch: 21 Avg accuracy: 98.8314 Avg loss: 0.0545\n",
            "Validation Results - Epoch: 21 Avg accuracy: 98.8314 Avg loss: 0.0545\n",
            "Training Results - Epoch: 22 Avg accuracy: 99.1653 Avg loss: 0.0524\n",
            "Validation Results - Epoch: 22 Avg accuracy: 99.1653 Avg loss: 0.0524\n",
            "Training Results - Epoch: 23 Avg accuracy: 99.2209 Avg loss: 0.0463\n",
            "Validation Results - Epoch: 23 Avg accuracy: 99.2209 Avg loss: 0.0463\n",
            "Training Results - Epoch: 24 Avg accuracy: 99.1653 Avg loss: 0.0437\n",
            "Validation Results - Epoch: 24 Avg accuracy: 99.1653 Avg loss: 0.0437\n",
            "Training Results - Epoch: 25 Avg accuracy: 99.2209 Avg loss: 0.0430\n",
            "Validation Results - Epoch: 25 Avg accuracy: 99.2209 Avg loss: 0.0430\n",
            "Training Results - Epoch: 26 Avg accuracy: 99.4435 Avg loss: 0.0405\n",
            "Validation Results - Epoch: 26 Avg accuracy: 99.4435 Avg loss: 0.0405\n",
            "Training Results - Epoch: 27 Avg accuracy: 99.3879 Avg loss: 0.0367\n",
            "Validation Results - Epoch: 27 Avg accuracy: 99.3879 Avg loss: 0.0367\n",
            "Training Results - Epoch: 28 Avg accuracy: 99.4992 Avg loss: 0.0369\n",
            "Validation Results - Epoch: 28 Avg accuracy: 99.4992 Avg loss: 0.0369\n",
            "Training Results - Epoch: 29 Avg accuracy: 99.3879 Avg loss: 0.0397\n",
            "Validation Results - Epoch: 29 Avg accuracy: 99.3879 Avg loss: 0.0397\n",
            "Training Results - Epoch: 30 Avg accuracy: 99.1096 Avg loss: 0.0411\n",
            "Validation Results - Epoch: 30 Avg accuracy: 99.1096 Avg loss: 0.0411\n",
            "Training Results - Epoch: 31 Avg accuracy: 99.3322 Avg loss: 0.0378\n",
            "Validation Results - Epoch: 31 Avg accuracy: 99.3322 Avg loss: 0.0378\n",
            "Training Results - Epoch: 32 Avg accuracy: 99.2766 Avg loss: 0.0306\n",
            "Validation Results - Epoch: 32 Avg accuracy: 99.2766 Avg loss: 0.0306\n",
            "Training Results - Epoch: 33 Avg accuracy: 99.4435 Avg loss: 0.0276\n",
            "Validation Results - Epoch: 33 Avg accuracy: 99.4435 Avg loss: 0.0276\n",
            "Training Results - Epoch: 34 Avg accuracy: 99.7774 Avg loss: 0.0252\n",
            "Validation Results - Epoch: 34 Avg accuracy: 99.7774 Avg loss: 0.0252\n",
            "Training Results - Epoch: 35 Avg accuracy: 99.7774 Avg loss: 0.0244\n",
            "Validation Results - Epoch: 35 Avg accuracy: 99.7774 Avg loss: 0.0244\n",
            "Training Results - Epoch: 36 Avg accuracy: 99.4435 Avg loss: 0.0262\n",
            "Validation Results - Epoch: 36 Avg accuracy: 99.4435 Avg loss: 0.0262\n",
            "Training Results - Epoch: 37 Avg accuracy: 99.3879 Avg loss: 0.0238\n",
            "Validation Results - Epoch: 37 Avg accuracy: 99.3879 Avg loss: 0.0238\n",
            "Training Results - Epoch: 38 Avg accuracy: 99.7218 Avg loss: 0.0237\n",
            "Validation Results - Epoch: 38 Avg accuracy: 99.7218 Avg loss: 0.0237\n",
            "Training Results - Epoch: 39 Avg accuracy: 99.7774 Avg loss: 0.0206\n",
            "Validation Results - Epoch: 39 Avg accuracy: 99.7774 Avg loss: 0.0206\n",
            "Training Results - Epoch: 40 Avg accuracy: 99.6661 Avg loss: 0.0206\n",
            "Validation Results - Epoch: 40 Avg accuracy: 99.6661 Avg loss: 0.0206\n",
            "Training Results - Epoch: 41 Avg accuracy: 99.8331 Avg loss: 0.0209\n",
            "Validation Results - Epoch: 41 Avg accuracy: 99.8331 Avg loss: 0.0209\n",
            "Training Results - Epoch: 42 Avg accuracy: 99.8331 Avg loss: 0.0194\n",
            "Validation Results - Epoch: 42 Avg accuracy: 99.8331 Avg loss: 0.0194\n",
            "Training Results - Epoch: 43 Avg accuracy: 99.8331 Avg loss: 0.0166\n",
            "Validation Results - Epoch: 43 Avg accuracy: 99.8331 Avg loss: 0.0166\n",
            "Training Results - Epoch: 44 Avg accuracy: 99.8331 Avg loss: 0.0172\n",
            "Validation Results - Epoch: 44 Avg accuracy: 99.8331 Avg loss: 0.0172\n",
            "Training Results - Epoch: 45 Avg accuracy: 99.7774 Avg loss: 0.0169\n",
            "Validation Results - Epoch: 45 Avg accuracy: 99.7774 Avg loss: 0.0169\n",
            "Training Results - Epoch: 46 Avg accuracy: 99.8331 Avg loss: 0.0153\n",
            "Validation Results - Epoch: 46 Avg accuracy: 99.8331 Avg loss: 0.0153\n",
            "Training Results - Epoch: 47 Avg accuracy: 99.8887 Avg loss: 0.0144\n",
            "Validation Results - Epoch: 47 Avg accuracy: 99.8887 Avg loss: 0.0144\n",
            "Training Results - Epoch: 48 Avg accuracy: 99.7774 Avg loss: 0.0158\n",
            "Validation Results - Epoch: 48 Avg accuracy: 99.7774 Avg loss: 0.0158\n",
            "Training Results - Epoch: 49 Avg accuracy: 99.9444 Avg loss: 0.0133\n",
            "Validation Results - Epoch: 49 Avg accuracy: 99.9444 Avg loss: 0.0133\n",
            "Training Results - Epoch: 50 Avg accuracy: 99.8887 Avg loss: 0.0128\n",
            "Validation Results - Epoch: 50 Avg accuracy: 99.8887 Avg loss: 0.0128\n",
            "Training Results - Epoch: 51 Avg accuracy: 99.8887 Avg loss: 0.0142\n",
            "Validation Results - Epoch: 51 Avg accuracy: 99.8887 Avg loss: 0.0142\n",
            "Training Results - Epoch: 52 Avg accuracy: 99.8887 Avg loss: 0.0128\n",
            "Validation Results - Epoch: 52 Avg accuracy: 99.8887 Avg loss: 0.0128\n",
            "Training Results - Epoch: 53 Avg accuracy: 99.8887 Avg loss: 0.0108\n",
            "Validation Results - Epoch: 53 Avg accuracy: 99.8887 Avg loss: 0.0108\n",
            "Training Results - Epoch: 54 Avg accuracy: 99.9444 Avg loss: 0.0104\n",
            "Validation Results - Epoch: 54 Avg accuracy: 99.9444 Avg loss: 0.0104\n",
            "Training Results - Epoch: 55 Avg accuracy: 99.8887 Avg loss: 0.0102\n",
            "Validation Results - Epoch: 55 Avg accuracy: 99.8887 Avg loss: 0.0102\n",
            "Training Results - Epoch: 56 Avg accuracy: 99.8887 Avg loss: 0.0097\n",
            "Validation Results - Epoch: 56 Avg accuracy: 99.8887 Avg loss: 0.0097\n",
            "Training Results - Epoch: 57 Avg accuracy: 99.9444 Avg loss: 0.0096\n",
            "Validation Results - Epoch: 57 Avg accuracy: 99.9444 Avg loss: 0.0096\n",
            "Training Results - Epoch: 58 Avg accuracy: 99.9444 Avg loss: 0.0104\n",
            "Validation Results - Epoch: 58 Avg accuracy: 99.9444 Avg loss: 0.0104\n",
            "Training Results - Epoch: 59 Avg accuracy: 99.9444 Avg loss: 0.0087\n",
            "Validation Results - Epoch: 59 Avg accuracy: 99.9444 Avg loss: 0.0087\n",
            "Training Results - Epoch: 60 Avg accuracy: 99.9444 Avg loss: 0.0087\n",
            "Validation Results - Epoch: 60 Avg accuracy: 99.9444 Avg loss: 0.0087\n",
            "Training Results - Epoch: 61 Avg accuracy: 99.9444 Avg loss: 0.0089\n",
            "Validation Results - Epoch: 61 Avg accuracy: 99.9444 Avg loss: 0.0089\n",
            "Training Results - Epoch: 62 Avg accuracy: 99.9444 Avg loss: 0.0078\n",
            "Validation Results - Epoch: 62 Avg accuracy: 99.9444 Avg loss: 0.0078\n",
            "Training Results - Epoch: 63 Avg accuracy: 99.9444 Avg loss: 0.0073\n",
            "Validation Results - Epoch: 63 Avg accuracy: 99.9444 Avg loss: 0.0073\n",
            "Training Results - Epoch: 64 Avg accuracy: 100.0000 Avg loss: 0.0069\n",
            "Validation Results - Epoch: 64 Avg accuracy: 100.0000 Avg loss: 0.0069\n",
            "Training Results - Epoch: 65 Avg accuracy: 100.0000 Avg loss: 0.0072\n",
            "Validation Results - Epoch: 65 Avg accuracy: 100.0000 Avg loss: 0.0072\n",
            "Training Results - Epoch: 66 Avg accuracy: 100.0000 Avg loss: 0.0065\n",
            "Validation Results - Epoch: 66 Avg accuracy: 100.0000 Avg loss: 0.0065\n",
            "Training Results - Epoch: 67 Avg accuracy: 100.0000 Avg loss: 0.0064\n",
            "Validation Results - Epoch: 67 Avg accuracy: 100.0000 Avg loss: 0.0064\n",
            "Training Results - Epoch: 68 Avg accuracy: 100.0000 Avg loss: 0.0066\n",
            "Validation Results - Epoch: 68 Avg accuracy: 100.0000 Avg loss: 0.0066\n",
            "Training Results - Epoch: 69 Avg accuracy: 100.0000 Avg loss: 0.0064\n",
            "Validation Results - Epoch: 69 Avg accuracy: 100.0000 Avg loss: 0.0064\n",
            "Training Results - Epoch: 70 Avg accuracy: 100.0000 Avg loss: 0.0056\n",
            "Validation Results - Epoch: 70 Avg accuracy: 100.0000 Avg loss: 0.0056\n",
            "Training Results - Epoch: 71 Avg accuracy: 100.0000 Avg loss: 0.0057\n",
            "Validation Results - Epoch: 71 Avg accuracy: 100.0000 Avg loss: 0.0057\n",
            "Training Results - Epoch: 72 Avg accuracy: 100.0000 Avg loss: 0.0059\n",
            "Validation Results - Epoch: 72 Avg accuracy: 100.0000 Avg loss: 0.0059\n",
            "Training Results - Epoch: 73 Avg accuracy: 100.0000 Avg loss: 0.0053\n",
            "Validation Results - Epoch: 73 Avg accuracy: 100.0000 Avg loss: 0.0053\n",
            "Training Results - Epoch: 74 Avg accuracy: 100.0000 Avg loss: 0.0049\n",
            "Validation Results - Epoch: 74 Avg accuracy: 100.0000 Avg loss: 0.0049\n",
            "Training Results - Epoch: 75 Avg accuracy: 100.0000 Avg loss: 0.0049\n",
            "Validation Results - Epoch: 75 Avg accuracy: 100.0000 Avg loss: 0.0049\n",
            "Training Results - Epoch: 76 Avg accuracy: 100.0000 Avg loss: 0.0047\n",
            "Validation Results - Epoch: 76 Avg accuracy: 100.0000 Avg loss: 0.0047\n",
            "Training Results - Epoch: 77 Avg accuracy: 100.0000 Avg loss: 0.0050\n",
            "Validation Results - Epoch: 77 Avg accuracy: 100.0000 Avg loss: 0.0050\n",
            "Training Results - Epoch: 78 Avg accuracy: 100.0000 Avg loss: 0.0042\n",
            "Validation Results - Epoch: 78 Avg accuracy: 100.0000 Avg loss: 0.0042\n",
            "Training Results - Epoch: 79 Avg accuracy: 100.0000 Avg loss: 0.0040\n",
            "Validation Results - Epoch: 79 Avg accuracy: 100.0000 Avg loss: 0.0040\n",
            "Training Results - Epoch: 80 Avg accuracy: 100.0000 Avg loss: 0.0046\n",
            "Validation Results - Epoch: 80 Avg accuracy: 100.0000 Avg loss: 0.0046\n",
            "Training Results - Epoch: 81 Avg accuracy: 100.0000 Avg loss: 0.0048\n",
            "Validation Results - Epoch: 81 Avg accuracy: 100.0000 Avg loss: 0.0048\n",
            "Training Results - Epoch: 82 Avg accuracy: 100.0000 Avg loss: 0.0039\n",
            "Validation Results - Epoch: 82 Avg accuracy: 100.0000 Avg loss: 0.0039\n",
            "Training Results - Epoch: 83 Avg accuracy: 100.0000 Avg loss: 0.0039\n",
            "Validation Results - Epoch: 83 Avg accuracy: 100.0000 Avg loss: 0.0039\n",
            "Training Results - Epoch: 84 Avg accuracy: 100.0000 Avg loss: 0.0045\n",
            "Validation Results - Epoch: 84 Avg accuracy: 100.0000 Avg loss: 0.0045\n",
            "Training Results - Epoch: 85 Avg accuracy: 100.0000 Avg loss: 0.0036\n",
            "Validation Results - Epoch: 85 Avg accuracy: 100.0000 Avg loss: 0.0036\n",
            "Training Results - Epoch: 86 Avg accuracy: 100.0000 Avg loss: 0.0032\n",
            "Validation Results - Epoch: 86 Avg accuracy: 100.0000 Avg loss: 0.0032\n",
            "Training Results - Epoch: 87 Avg accuracy: 100.0000 Avg loss: 0.0033\n",
            "Validation Results - Epoch: 87 Avg accuracy: 100.0000 Avg loss: 0.0033\n",
            "Training Results - Epoch: 88 Avg accuracy: 100.0000 Avg loss: 0.0037\n",
            "Validation Results - Epoch: 88 Avg accuracy: 100.0000 Avg loss: 0.0037\n",
            "Training Results - Epoch: 89 Avg accuracy: 100.0000 Avg loss: 0.0035\n",
            "Validation Results - Epoch: 89 Avg accuracy: 100.0000 Avg loss: 0.0035\n",
            "Training Results - Epoch: 90 Avg accuracy: 100.0000 Avg loss: 0.0030\n",
            "Validation Results - Epoch: 90 Avg accuracy: 100.0000 Avg loss: 0.0030\n",
            "Training Results - Epoch: 91 Avg accuracy: 100.0000 Avg loss: 0.0028\n",
            "Validation Results - Epoch: 91 Avg accuracy: 100.0000 Avg loss: 0.0028\n",
            "Training Results - Epoch: 92 Avg accuracy: 100.0000 Avg loss: 0.0028\n",
            "Validation Results - Epoch: 92 Avg accuracy: 100.0000 Avg loss: 0.0028\n",
            "Training Results - Epoch: 93 Avg accuracy: 100.0000 Avg loss: 0.0027\n",
            "Validation Results - Epoch: 93 Avg accuracy: 100.0000 Avg loss: 0.0027\n",
            "Training Results - Epoch: 94 Avg accuracy: 100.0000 Avg loss: 0.0026\n",
            "Validation Results - Epoch: 94 Avg accuracy: 100.0000 Avg loss: 0.0026\n",
            "Training Results - Epoch: 95 Avg accuracy: 100.0000 Avg loss: 0.0026\n",
            "Validation Results - Epoch: 95 Avg accuracy: 100.0000 Avg loss: 0.0026\n",
            "Training Results - Epoch: 96 Avg accuracy: 100.0000 Avg loss: 0.0024\n",
            "Validation Results - Epoch: 96 Avg accuracy: 100.0000 Avg loss: 0.0024\n",
            "Training Results - Epoch: 97 Avg accuracy: 100.0000 Avg loss: 0.0030\n",
            "Validation Results - Epoch: 97 Avg accuracy: 100.0000 Avg loss: 0.0030\n",
            "Training Results - Epoch: 98 Avg accuracy: 100.0000 Avg loss: 0.0025\n",
            "Validation Results - Epoch: 98 Avg accuracy: 100.0000 Avg loss: 0.0025\n",
            "Training Results - Epoch: 99 Avg accuracy: 100.0000 Avg loss: 0.0023\n",
            "Validation Results - Epoch: 99 Avg accuracy: 100.0000 Avg loss: 0.0023\n",
            "Training Results - Epoch: 100 Avg accuracy: 100.0000 Avg loss: 0.0023\n",
            "Validation Results - Epoch: 100 Avg accuracy: 100.0000 Avg loss: 0.0023\n"
          ],
          "name": "stdout"
        },
        {
          "output_type": "display_data",
          "data": {
            "image/png": "[encoded data removed]",
            "text/plain": [
              "<Figure size 720x720 with 2 Axes>"
            ]
          },
          "metadata": {
            "tags": [],
            "needs_background": "light"
          }
        },
        {
          "output_type": "display_data",
          "data": {
            "image/png": "[encoded data removed]",
            "text/plain": [
              "<Figure size 432x288 with 1 Axes>"
            ]
          },
          "metadata": {
            "tags": [],
            "needs_background": "light"
          }
        }
      ]
    }
  ]
}